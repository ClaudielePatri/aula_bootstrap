{
  "nbformat": 4,
  "nbformat_minor": 0,
  "metadata": {
    "colab": {
      "provenance": [],
      "include_colab_link": true
    },
    "kernelspec": {
      "name": "python3",
      "display_name": "Python 3"
    },
    "language_info": {
      "name": "python"
    }
  },
  "cells": [
    {
      "cell_type": "markdown",
      "metadata": {
        "id": "view-in-github",
        "colab_type": "text"
      },
      "source": [
        "<a href=\"https://colab.research.google.com/github/ClaudielePatri/aula_bootstrap/blob/main/Analista_de_dados_Low_Code_2025.ipynb\" target=\"_parent\"><img src=\"https://colab.research.google.com/assets/colab-badge.svg\" alt=\"Open In Colab\"/></a>"
      ]
    },
    {
      "cell_type": "markdown",
      "source": [
        "#Básico Python"
      ],
      "metadata": {
        "id": "H6M6FT4TfgUa"
      }
    },
    {
      "cell_type": "code",
      "source": [
        "print(\"Olá mundo\")"
      ],
      "metadata": {
        "colab": {
          "base_uri": "https://localhost:8080/"
        },
        "id": "-wjIW049bOld",
        "outputId": "6d2d3287-f405-45b6-8458-1a64b2a6c939"
      },
      "execution_count": null,
      "outputs": [
        {
          "output_type": "stream",
          "name": "stdout",
          "text": [
            "Olá mundo\n"
          ]
        }
      ]
    },
    {
      "cell_type": "code",
      "source": [
        "'''\n",
        "Olá, pessoas Soulcoders! Somos\n",
        "incríveis!\n",
        "\n",
        "'''\n",
        "\n",
        "#Olá mundo"
      ],
      "metadata": {
        "id": "nXiDmmhObyfM"
      },
      "execution_count": null,
      "outputs": []
    },
    {
      "cell_type": "markdown",
      "source": [
        "#Tipos de dados"
      ],
      "metadata": {
        "id": "Yhdv0QEv7otW"
      }
    },
    {
      "cell_type": "markdown",
      "source": [
        "##Str (String)"
      ],
      "metadata": {
        "id": "nKxMYnic7u_I"
      }
    },
    {
      "cell_type": "code",
      "source": [
        "nome = 'Dannyelly' #string\n",
        "print(nome)\n",
        "type(nome)"
      ],
      "metadata": {
        "colab": {
          "base_uri": "https://localhost:8080/"
        },
        "id": "hT3T-2LjcP12",
        "outputId": "9179fc9d-fc56-4f7d-ff2f-95412ce1e029"
      },
      "execution_count": null,
      "outputs": [
        {
          "output_type": "stream",
          "name": "stdout",
          "text": [
            "Dannyelly\n"
          ]
        },
        {
          "output_type": "execute_result",
          "data": {
            "text/plain": [
              "str"
            ]
          },
          "metadata": {},
          "execution_count": 3
        }
      ]
    },
    {
      "cell_type": "markdown",
      "source": [
        "##Inteiro (int)"
      ],
      "metadata": {
        "id": "wGC44VL37w7m"
      }
    },
    {
      "cell_type": "code",
      "source": [
        "idade = 32 #inteiro\n",
        "print(idade)\n",
        "type(idade)"
      ],
      "metadata": {
        "colab": {
          "base_uri": "https://localhost:8080/"
        },
        "id": "v4LzwhBsc8My",
        "outputId": "3fa1ddb5-3506-4142-8098-aefcd1017547"
      },
      "execution_count": null,
      "outputs": [
        {
          "output_type": "stream",
          "name": "stdout",
          "text": [
            "32\n"
          ]
        },
        {
          "output_type": "execute_result",
          "data": {
            "text/plain": [
              "int"
            ]
          },
          "metadata": {},
          "execution_count": 6
        }
      ]
    },
    {
      "cell_type": "markdown",
      "source": [
        "##Float"
      ],
      "metadata": {
        "id": "tZciCk2372mN"
      }
    },
    {
      "cell_type": "code",
      "source": [
        "altura = 1.63 #float\n",
        "print(altura)\n",
        "type(altura)"
      ],
      "metadata": {
        "colab": {
          "base_uri": "https://localhost:8080/"
        },
        "id": "-WKKhShrdKI0",
        "outputId": "aa6c4c5b-5fad-401e-df94-61fff15c62de"
      },
      "execution_count": null,
      "outputs": [
        {
          "output_type": "stream",
          "name": "stdout",
          "text": [
            "1.63\n"
          ]
        },
        {
          "output_type": "execute_result",
          "data": {
            "text/plain": [
              "float"
            ]
          },
          "metadata": {},
          "execution_count": 8
        }
      ]
    },
    {
      "cell_type": "markdown",
      "source": [
        "##Booleano(bool)"
      ],
      "metadata": {
        "id": "165lbQ5n75on"
      }
    },
    {
      "cell_type": "code",
      "source": [
        "estudante = True / False  #booleano\n",
        "print(estudante)\n",
        "type(estudante)"
      ],
      "metadata": {
        "colab": {
          "base_uri": "https://localhost:8080/"
        },
        "id": "gW4vfpkmdVVq",
        "outputId": "9fced40c-42c5-4572-90af-b43907384236"
      },
      "execution_count": null,
      "outputs": [
        {
          "output_type": "stream",
          "name": "stdout",
          "text": [
            "True\n"
          ]
        },
        {
          "output_type": "execute_result",
          "data": {
            "text/plain": [
              "bool"
            ]
          },
          "metadata": {},
          "execution_count": 9
        }
      ]
    },
    {
      "cell_type": "markdown",
      "source": [
        "#Operadores Matemáticos"
      ],
      "metadata": {
        "id": "J7tFV8h9fV7P"
      }
    },
    {
      "cell_type": "code",
      "source": [
        "#soma (+)\n",
        "a = 2\n",
        "b = 3\n",
        "c = a + b\n",
        "print(c)"
      ],
      "metadata": {
        "colab": {
          "base_uri": "https://localhost:8080/"
        },
        "id": "QXGeOiQrfVU1",
        "outputId": "8f37f0ad-83bb-48b1-9d18-16df6f93acb7"
      },
      "execution_count": null,
      "outputs": [
        {
          "output_type": "stream",
          "name": "stdout",
          "text": [
            "5\n"
          ]
        }
      ]
    },
    {
      "cell_type": "code",
      "source": [
        "#subtração (-)\n",
        "a = 3\n",
        "b = 2\n",
        "c = a - b\n",
        "print(c)"
      ],
      "metadata": {
        "colab": {
          "base_uri": "https://localhost:8080/"
        },
        "id": "mAP16t02f3C8",
        "outputId": "2766b190-cc95-4d02-ca4b-f0375dd22a8f"
      },
      "execution_count": null,
      "outputs": [
        {
          "output_type": "stream",
          "name": "stdout",
          "text": [
            "1\n"
          ]
        }
      ]
    },
    {
      "cell_type": "code",
      "source": [
        "#divisão (/)\n",
        "a = 5\n",
        "b = 5\n",
        "c = 5/5\n",
        "print(c)"
      ],
      "metadata": {
        "colab": {
          "base_uri": "https://localhost:8080/"
        },
        "id": "xamJbdRngEPg",
        "outputId": "7f68c8f2-422a-4073-bb0d-eddfa918370c"
      },
      "execution_count": null,
      "outputs": [
        {
          "output_type": "stream",
          "name": "stdout",
          "text": [
            "1.0\n"
          ]
        }
      ]
    },
    {
      "cell_type": "code",
      "source": [
        "#multiplicação (*)\n",
        "a = 2\n",
        "b = 3\n",
        "c = a * b\n",
        "print(c)"
      ],
      "metadata": {
        "id": "vi4XSTaSgaEr"
      },
      "execution_count": null,
      "outputs": []
    },
    {
      "cell_type": "code",
      "source": [
        "#parte inteira (//)\n",
        "a = 5\n",
        "b = 5\n",
        "c = a // b\n",
        "print(c)"
      ],
      "metadata": {
        "colab": {
          "base_uri": "https://localhost:8080/"
        },
        "id": "W8Kfwbybgxdz",
        "outputId": "bc143898-9097-4d64-d9e2-c6097482e95e"
      },
      "execution_count": null,
      "outputs": [
        {
          "output_type": "stream",
          "name": "stdout",
          "text": [
            "1\n"
          ]
        }
      ]
    },
    {
      "cell_type": "code",
      "source": [
        "#resto da divisão (%)\n",
        "a = 5\n",
        "b = 5\n",
        "c = a % b\n",
        "print(c)"
      ],
      "metadata": {
        "colab": {
          "base_uri": "https://localhost:8080/"
        },
        "id": "XgKWqmvzhd3d",
        "outputId": "9ae89b7c-5a82-49aa-8661-af207f9e6760"
      },
      "execution_count": null,
      "outputs": [
        {
          "output_type": "stream",
          "name": "stdout",
          "text": [
            "0\n"
          ]
        }
      ]
    },
    {
      "cell_type": "code",
      "source": [
        "#potenciacao (**)\n",
        "a = 5\n",
        "b = 5\n",
        "c = a ** b\n",
        "print(c)"
      ],
      "metadata": {
        "colab": {
          "base_uri": "https://localhost:8080/"
        },
        "id": "y042sTaWhpCp",
        "outputId": "46d354b6-5891-4031-fdc7-52e2608fa740"
      },
      "execution_count": null,
      "outputs": [
        {
          "output_type": "stream",
          "name": "stdout",
          "text": [
            "3125\n"
          ]
        }
      ]
    },
    {
      "cell_type": "markdown",
      "source": [
        "#Operadores Relacionais"
      ],
      "metadata": {
        "id": "1IE8tcGZiJ1L"
      }
    },
    {
      "cell_type": "code",
      "source": [
        "#Comparação (==)\n",
        "a= 5\n",
        "b = 5\n",
        "c = a == b\n",
        "print(c)\n",
        "type(c)"
      ],
      "metadata": {
        "colab": {
          "base_uri": "https://localhost:8080/"
        },
        "id": "0-Rw3QEoiO7r",
        "outputId": "33be977a-db6d-41e3-806d-3a2a448550cb"
      },
      "execution_count": null,
      "outputs": [
        {
          "output_type": "stream",
          "name": "stdout",
          "text": [
            "True\n"
          ]
        },
        {
          "output_type": "execute_result",
          "data": {
            "text/plain": [
              "bool"
            ]
          },
          "metadata": {},
          "execution_count": 20
        }
      ]
    },
    {
      "cell_type": "code",
      "source": [
        "#Diferente de (!=)\n",
        "a = 5\n",
        "b = 6\n",
        "c = a!=b\n",
        "print(c)\n",
        "type(c)"
      ],
      "metadata": {
        "colab": {
          "base_uri": "https://localhost:8080/"
        },
        "id": "DmsUdcDwij7F",
        "outputId": "027eda5d-dea3-4735-ab9b-34d5009f3331"
      },
      "execution_count": null,
      "outputs": [
        {
          "output_type": "stream",
          "name": "stdout",
          "text": [
            "True\n"
          ]
        },
        {
          "output_type": "execute_result",
          "data": {
            "text/plain": [
              "bool"
            ]
          },
          "metadata": {},
          "execution_count": 23
        }
      ]
    },
    {
      "cell_type": "code",
      "source": [
        "#Maior que (>)\n",
        "a = 10\n",
        "b = 20\n",
        "c = a>b\n",
        "print(c)"
      ],
      "metadata": {
        "colab": {
          "base_uri": "https://localhost:8080/"
        },
        "id": "WJU8PvlLjNYW",
        "outputId": "385816b8-ef06-4720-a2bf-35b9c087b824"
      },
      "execution_count": null,
      "outputs": [
        {
          "output_type": "stream",
          "name": "stdout",
          "text": [
            "False\n"
          ]
        }
      ]
    },
    {
      "cell_type": "code",
      "source": [
        "#Menor que (<)\n",
        "a = 7\n",
        "b = 8\n",
        "c = a<b\n",
        "print(c)"
      ],
      "metadata": {
        "colab": {
          "base_uri": "https://localhost:8080/"
        },
        "id": "sijwLV9njZ5V",
        "outputId": "a6d124bd-9e10-48e5-828e-0d66fd134758"
      },
      "execution_count": null,
      "outputs": [
        {
          "output_type": "stream",
          "name": "stdout",
          "text": [
            "True\n"
          ]
        }
      ]
    },
    {
      "cell_type": "code",
      "source": [
        "#Maior ou igual (>=)\n",
        "a = 25\n",
        "b = 36\n",
        "c = a>=b\n",
        "print(c)"
      ],
      "metadata": {
        "colab": {
          "base_uri": "https://localhost:8080/"
        },
        "id": "MRBffGwSjkDB",
        "outputId": "4dae0899-96a9-4daf-9133-6bd49496c996"
      },
      "execution_count": null,
      "outputs": [
        {
          "output_type": "stream",
          "name": "stdout",
          "text": [
            "False\n"
          ]
        }
      ]
    },
    {
      "cell_type": "code",
      "source": [
        "#Menor ou igual (<=)\n",
        "a = 27\n",
        "b = 36\n",
        "c = a<=b\n",
        "print(c)"
      ],
      "metadata": {
        "colab": {
          "base_uri": "https://localhost:8080/"
        },
        "id": "rFZXYqHOjvMj",
        "outputId": "9f1fe6dc-450f-4c0f-a816-3d05530e3b28"
      },
      "execution_count": null,
      "outputs": [
        {
          "output_type": "stream",
          "name": "stdout",
          "text": [
            "True\n"
          ]
        }
      ]
    },
    {
      "cell_type": "code",
      "source": [
        "#And\n",
        "a = 5\n",
        "b = 3\n",
        "c = a>b and a>10\n",
        "print(c)"
      ],
      "metadata": {
        "colab": {
          "base_uri": "https://localhost:8080/"
        },
        "id": "A1tYRa16j6wD",
        "outputId": "7fafb68b-2116-4ca1-fa9b-aab6d094e46c"
      },
      "execution_count": null,
      "outputs": [
        {
          "output_type": "stream",
          "name": "stdout",
          "text": [
            "False\n"
          ]
        }
      ]
    },
    {
      "cell_type": "code",
      "source": [
        "#or (ou)\n",
        "a = 7\n",
        "b = 6\n",
        "c = a>b or a==6\n",
        "print(c)"
      ],
      "metadata": {
        "colab": {
          "base_uri": "https://localhost:8080/"
        },
        "id": "kzeGJSLHpjnU",
        "outputId": "9a122f82-21ac-4081-9743-53c017f723da"
      },
      "execution_count": null,
      "outputs": [
        {
          "output_type": "stream",
          "name": "stdout",
          "text": [
            "True\n"
          ]
        }
      ]
    },
    {
      "cell_type": "code",
      "source": [
        "#not\n",
        "a = 8\n",
        "b = 9\n",
        "c = not a>b\n",
        "print(c)"
      ],
      "metadata": {
        "colab": {
          "base_uri": "https://localhost:8080/"
        },
        "id": "PMI6qhIXp1tJ",
        "outputId": "af87be17-42ad-4afb-bfa1-25be607b1f9f"
      },
      "execution_count": null,
      "outputs": [
        {
          "output_type": "stream",
          "name": "stdout",
          "text": [
            "True\n"
          ]
        }
      ]
    },
    {
      "cell_type": "code",
      "source": [
        "nome = 'Dannyelly' #string\n",
        "#print(nome)\n",
        "idade = 31\n",
        "altura = 1.63\n",
        "\n",
        "#\n",
        "print(f'Meu nome é {nome}, ela tem {idade} anos e a altura dela é {altura}')\n"
      ],
      "metadata": {
        "colab": {
          "base_uri": "https://localhost:8080/"
        },
        "id": "09rnDp2FqEml",
        "outputId": "0017de08-c49c-4e01-b841-ec25aca7d9c5"
      },
      "execution_count": null,
      "outputs": [
        {
          "output_type": "stream",
          "name": "stdout",
          "text": [
            "Meu nome é Dannyelly, ela tem 31 anos e a altura dela é 1.63\n"
          ]
        }
      ]
    },
    {
      "cell_type": "code",
      "source": [
        "#divisão\n",
        "a = 5.23\n",
        "b = 2\n",
        "c = a/b\n",
        "print(c)\n",
        "#print(f'{c:.0f}')\n",
        "\n"
      ],
      "metadata": {
        "colab": {
          "base_uri": "https://localhost:8080/"
        },
        "id": "-1h2Xpv5rc6a",
        "outputId": "086e9100-2bd3-4b8d-e498-47d1d9c6e6d3"
      },
      "execution_count": null,
      "outputs": [
        {
          "output_type": "stream",
          "name": "stdout",
          "text": [
            "2.615\n",
            "3\n",
            "2.62\n"
          ]
        }
      ]
    },
    {
      "cell_type": "code",
      "source": [
        "'''\n",
        "É uma boa prática arredondar a exibição ao invés do armazenamento\n",
        "'''\n",
        "print(round(c,2))# Arredonda a exibição"
      ],
      "metadata": {
        "id": "dA-5xyQ9jM4P"
      },
      "execution_count": null,
      "outputs": []
    },
    {
      "cell_type": "code",
      "source": [
        "input() #para entrada de dados"
      ],
      "metadata": {
        "colab": {
          "base_uri": "https://localhost:8080/",
          "height": 54
        },
        "id": "5u4oKjLKtIPF",
        "outputId": "2df859ea-9680-4eb0-df2f-81a4185081ad"
      },
      "execution_count": null,
      "outputs": [
        {
          "name": "stdout",
          "output_type": "stream",
          "text": [
            "15\n"
          ]
        },
        {
          "output_type": "execute_result",
          "data": {
            "text/plain": [
              "'15'"
            ],
            "application/vnd.google.colaboratory.intrinsic+json": {
              "type": "string"
            }
          },
          "metadata": {},
          "execution_count": 49
        }
      ]
    },
    {
      "cell_type": "code",
      "source": [
        "nome = input('Qual seu nome? ')\n",
        "idade = int(input('Qual sua idade? '))\n",
        "altura = float(input('Qual sua altura? '))\n",
        "conta = idade * altura\n",
        "print('----------------------')\n",
        "print(conta)\n",
        "print(nome)\n",
        "print(idade)\n",
        "print(type(idade))\n",
        "print(altura)\n"
      ],
      "metadata": {
        "colab": {
          "base_uri": "https://localhost:8080/"
        },
        "id": "hr99Yfp9tQZ6",
        "outputId": "7b24d906-c043-410a-89bf-9873906a851f"
      },
      "execution_count": null,
      "outputs": [
        {
          "output_type": "stream",
          "name": "stdout",
          "text": [
            "Qual seu nome? Danny\n",
            "Qual sua idade? 31\n",
            "Qual sua altura? 1.63\n",
            "----------------------\n",
            "50.529999999999994\n",
            "Danny\n",
            "31\n",
            "<class 'int'>\n",
            "1.63\n"
          ]
        }
      ]
    },
    {
      "cell_type": "markdown",
      "source": [
        "#Condição IF, Elif e Else"
      ],
      "metadata": {
        "id": "vAaVL-tTwQm9"
      }
    },
    {
      "cell_type": "code",
      "source": [
        "#Condição IF\n",
        "'''\n",
        "O If é usado quando a condição é verdadeira\n",
        "'''\n",
        "\n",
        "idade = int(input('Qual a sua idade? '))\n",
        "\n",
        "if idade >18:\n",
        "    print('Você é maior de idade!')\n"
      ],
      "metadata": {
        "colab": {
          "base_uri": "https://localhost:8080/"
        },
        "id": "rmugO88wwHpV",
        "outputId": "bc527682-bb4c-4be4-abf1-42a473867810"
      },
      "execution_count": null,
      "outputs": [
        {
          "output_type": "stream",
          "name": "stdout",
          "text": [
            "Qual a sua idade31\n",
            "Você é maior de idade!\n"
          ]
        }
      ]
    },
    {
      "cell_type": "code",
      "source": [
        "#Else\n",
        "'''\n",
        "O Else é usado quando a condição é falsa\n",
        "\n",
        "'''\n",
        "\n",
        "idade = int(input('Qual a sua idade? '))\n",
        "\n",
        "if idade >=18:\n",
        "    print('Você é maior de idade!')\n",
        "else:\n",
        "    print('Você é menor de idade!')"
      ],
      "metadata": {
        "id": "eEhpntObxMza"
      },
      "execution_count": null,
      "outputs": []
    },
    {
      "cell_type": "code",
      "source": [
        "#Elif\n",
        "\n",
        "'''\n",
        "O elif é usado quando precisamos verificar mais de uma condição\n",
        "'''\n",
        "\n",
        "nota = float(input('Qual a sua nota? '))\n",
        "\n",
        "if nota > 9:\n",
        "    print('Aluno aprovado')\n",
        "elif nota <= 5:\n",
        "    print('Aluno em recuperação')\n",
        "elif nota < 9:\n",
        "    print('Aluno reprovado')\n",
        "else:\n",
        "    print('Nota inválida')\n",
        "\n"
      ],
      "metadata": {
        "id": "YmI-CWN8x4AW"
      },
      "execution_count": null,
      "outputs": []
    },
    {
      "cell_type": "markdown",
      "source": [
        "#Exercicios"
      ],
      "metadata": {
        "id": "UZVsFdUc1bJH"
      }
    },
    {
      "cell_type": "code",
      "source": [
        "'''\n",
        "\n",
        "1- Crie um programa que solicite ao usuário seu nome e idade e depois exiba essa informação formatada.\n",
        "\n",
        "2- Crie uma variável para armazenar um número inteiro, um número decimal e uma string. Exiba os valores e seus tipos.\n",
        "\n",
        "3 - Peça dois números ao usuário e exiba a soma, subtração, multiplicação e divisão entre eles.\n",
        "\n",
        "4- Peça um número ao usuário e verifique se ele é maior que 10.\n",
        "\n",
        "'''"
      ],
      "metadata": {
        "id": "trYA41fV1aT9"
      },
      "execution_count": null,
      "outputs": []
    },
    {
      "cell_type": "markdown",
      "source": [
        "##Revisão"
      ],
      "metadata": {
        "id": "x1zefKxOC0K-"
      }
    },
    {
      "cell_type": "code",
      "source": [
        "#1 -\n",
        "nome = input('Qual seu nome? ')\n",
        "idade = int(input('Qual sua idade? '))\n",
        "\n",
        "print(f'Seu nome é {nome} e a sua idade é {idade}')"
      ],
      "metadata": {
        "id": "VmChZMTmZvzm"
      },
      "execution_count": null,
      "outputs": []
    },
    {
      "cell_type": "code",
      "source": [
        "\n",
        "num_decimal = 2.58\n",
        "string = \"Maracuja\"\n",
        "num_inteiro = 31\n",
        "\n",
        "print(num_decimal)\n",
        "print(type(num_decimal))\n",
        "print(string)\n",
        "print(type(string))\n",
        "print(num_inteiro)\n",
        "print(type(num_inteiro))"
      ],
      "metadata": {
        "id": "C93-1-6meGKy",
        "outputId": "03cd8926-22ad-4d5f-94f1-27877d6bf718",
        "colab": {
          "base_uri": "https://localhost:8080/"
        }
      },
      "execution_count": null,
      "outputs": [
        {
          "output_type": "stream",
          "name": "stdout",
          "text": [
            "2.58\n",
            "<class 'float'>\n",
            "Maracuja\n",
            "<class 'str'>\n",
            "31\n",
            "<class 'int'>\n"
          ]
        }
      ]
    },
    {
      "cell_type": "code",
      "source": [
        "n= int(input('Digite um número: '))\n",
        "d= float(input('Digite um número decimal: '))\n",
        "s= str(input('Digite uma letra ou palavra: '))\n",
        "print(f'O número inteiro é {n}, e seu tipo é {type(n)}\\no número decimal é {d}, e seu tipo é{type(d)}\\ne a string é {s},  e seu tipo é {type(s)}')"
      ],
      "metadata": {
        "id": "DKLLKHtgeF9Y",
        "outputId": "07d4fb39-60e8-4e81-8801-2a50188cc789",
        "colab": {
          "base_uri": "https://localhost:8080/"
        }
      },
      "execution_count": null,
      "outputs": [
        {
          "output_type": "stream",
          "name": "stdout",
          "text": [
            "Digite um número: 31\n",
            "Digite um número decimal: 2.58\n",
            "Digite uma letra ou palavra: S\n",
            "O número inteiro é 31, e seu tipo é <class 'int'>\n",
            "o número decimal é 2.58, e seu tipo é<class 'float'>\n",
            "e a string é S,  e seu tipo é <class 'str'>\n"
          ]
        }
      ]
    },
    {
      "cell_type": "code",
      "source": [
        "#Peça dois números ao usuário e exiba a soma, subtração, multiplicação e divisão entre eles.\n",
        "\n",
        "num1 = int(input('Qual o primeiro numero?'))\n",
        "num2 = int(input('Qual o segundo numero?'))\n",
        "\n",
        "soma = num1+num2\n",
        "print(soma)\n",
        "\n",
        "sub = num1-num2\n",
        "print(sub)\n",
        "\n",
        "multi = num1*num2\n",
        "print(multi)\n",
        "\n",
        "div = num1/num2\n",
        "print(round(div,2))"
      ],
      "metadata": {
        "id": "FVGpcCgdfuaE",
        "outputId": "bff48390-be2f-4358-c89d-73ef3475308a",
        "colab": {
          "base_uri": "https://localhost:8080/"
        }
      },
      "execution_count": null,
      "outputs": [
        {
          "output_type": "stream",
          "name": "stdout",
          "text": [
            "Qual o primeiro numero?10\n",
            "Qual o segundo numero?35\n",
            "45\n",
            "-25\n",
            "350\n",
            "0.29\n"
          ]
        }
      ]
    },
    {
      "cell_type": "code",
      "source": [
        "#4- Peça um número ao usuário e verifique se ele é maior que 10.\n",
        "\n",
        "num = int(input('Insira um número inteiro, por gentileza:'))\n",
        "\n",
        "if num > 10:\n",
        "  print('O número é maior que o número 10')\n",
        "elif num == 10:\n",
        "  print('O número é igual a 10')\n",
        "else:\n",
        "  print('O número não é maior que o número 10')"
      ],
      "metadata": {
        "id": "OOs-7dImgpTL",
        "outputId": "e6a40a24-57a4-40cf-9d9f-74fd5c6d0ac7",
        "colab": {
          "base_uri": "https://localhost:8080/"
        }
      },
      "execution_count": null,
      "outputs": [
        {
          "output_type": "stream",
          "name": "stdout",
          "text": [
            "Insira um número inteiro, por gentileza:11\n",
            "O número é maior que o número 10\n"
          ]
        }
      ]
    },
    {
      "cell_type": "code",
      "source": [
        "'''O nome das variaveis precisam podem ser com letras maiusculas e minusculas, porem lembrem-se que uma variavel com\n",
        "o mesmo nome e letras maisculas e minusculas são variaveis diferentes.'''\n",
        "\n",
        "nome = 'Dannyelly'\n",
        "Nome = \"Dannyelly\"\n",
        "\n",
        "#Nome de variaveis com espeço incluir 'underline'\n",
        "dannyelly_dayane ="
      ],
      "metadata": {
        "id": "g6EKv_wSiVbM"
      },
      "execution_count": null,
      "outputs": []
    },
    {
      "cell_type": "markdown",
      "source": [
        "#Tipos de estruturas"
      ],
      "metadata": {
        "id": "COBC-v-fznQL"
      }
    },
    {
      "cell_type": "code",
      "source": [
        "#para criar uma lista, usa-se colchetes [] e podem ser alteradas após criação, além disso,\n",
        "#o acesso aos elementos é pelo indice;\n",
        "#para criar uma tupla, usam-se parênteses () e não podem ser alteradas após a criação.\n",
        "#para criar um dicionário, usa-se chaves {} e pares chave-valor os valores podem ser alterados, mas as chaves são imutáveis."
      ],
      "metadata": {
        "id": "GOiNP7xZzrd3"
      },
      "execution_count": null,
      "outputs": []
    },
    {
      "cell_type": "markdown",
      "source": [
        "##Listas"
      ],
      "metadata": {
        "id": "J4FfMUCRC42z"
      }
    },
    {
      "cell_type": "code",
      "source": [
        "lista = [1, 2, 3, 4, 5]\n",
        "        #0, 1, 2, 3, 4\n",
        "         #-5,-4,-3,-2,-1\n",
        "\n",
        "print(lista[1])\n",
        "print(lista[1:4])\n",
        "print(lista[::2])\n",
        "print(lista[::-1])\n",
        "\n",
        "\n",
        "#print(nome[inicio:fim:passos])\n",
        "#inicio ele vai inclusive, ou seja, ele vai incluir o numero do indice\n",
        "#o numero fim, é exclusive, ou seja, ele vai excluir o valor do indice.\n",
        "\n"
      ],
      "metadata": {
        "colab": {
          "base_uri": "https://localhost:8080/"
        },
        "id": "nrq03Bvuj7L-",
        "outputId": "4990d11d-7a11-4eac-b8af-0c3e5c643753"
      },
      "execution_count": null,
      "outputs": [
        {
          "output_type": "stream",
          "name": "stdout",
          "text": [
            "2\n",
            "[2, 3, 4]\n",
            "[1, 3, 5]\n",
            "[5, 4, 3, 2, 1]\n"
          ]
        }
      ]
    },
    {
      "cell_type": "code",
      "source": [
        "print(lista)\n",
        "print(type(lista))\n",
        "\n",
        "lista2 = ['banana','maça','limão','maracujá']\n",
        "print(lista2)\n"
      ],
      "metadata": {
        "colab": {
          "base_uri": "https://localhost:8080/"
        },
        "id": "Wybrm4B8liWm",
        "outputId": "db67fc07-941f-4845-ec79-a73ccb3f1b41"
      },
      "execution_count": null,
      "outputs": [
        {
          "output_type": "stream",
          "name": "stdout",
          "text": [
            "[10, 1, 2, 3, 4, 5]\n",
            "<class 'list'>\n",
            "['banana', 'maça', 'limão', 'maracujá']\n"
          ]
        }
      ]
    },
    {
      "cell_type": "code",
      "source": [
        "#IN\n",
        "\n",
        "if 'maça' in lista2:\n",
        "  print('A maça está presente na lista')\n",
        "else:\n",
        "  print('Não tem maça, precisamos comprar.')\n",
        "\n",
        "#NOT IN\n",
        "print('maça' not in lista2)\n"
      ],
      "metadata": {
        "colab": {
          "base_uri": "https://localhost:8080/"
        },
        "id": "1KTBbPEOofMe",
        "outputId": "27f18715-24c6-48e6-f8a9-fe97029ba21c"
      },
      "execution_count": null,
      "outputs": [
        {
          "output_type": "stream",
          "name": "stdout",
          "text": [
            "A maça está presente na lista\n",
            "False\n"
          ]
        }
      ]
    },
    {
      "cell_type": "code",
      "source": [
        "if 1 in lista:\n",
        "  print('Tem o numero 1 na lista')\n",
        "else:\n",
        "  print('Não tem o numero 1 na lista')"
      ],
      "metadata": {
        "colab": {
          "base_uri": "https://localhost:8080/"
        },
        "id": "iTARHNt5ol09",
        "outputId": "990ef79e-389c-4799-d1b2-dc889c8fcfc8"
      },
      "execution_count": null,
      "outputs": [
        {
          "output_type": "stream",
          "name": "stdout",
          "text": [
            "Tem o numero 1 na lista\n"
          ]
        }
      ]
    },
    {
      "cell_type": "code",
      "source": [
        "print(len(lista))\n",
        "print(type(lista))"
      ],
      "metadata": {
        "colab": {
          "base_uri": "https://localhost:8080/"
        },
        "id": "GHqGD4PLpxcq",
        "outputId": "0197c29a-a80f-4905-e858-971f593f07b8"
      },
      "execution_count": null,
      "outputs": [
        {
          "output_type": "stream",
          "name": "stdout",
          "text": [
            "35\n"
          ]
        }
      ]
    },
    {
      "cell_type": "code",
      "source": [
        "numeros=[1,2,3,[1,2,3],[4,5,6],[7,8,9]]\n",
        "print(len(numeros))\n"
      ],
      "metadata": {
        "colab": {
          "base_uri": "https://localhost:8080/"
        },
        "id": "ukj8-84BqhdV",
        "outputId": "2cff4ddc-6d10-42cc-f163-4cda037f9011"
      },
      "execution_count": null,
      "outputs": [
        {
          "output_type": "stream",
          "name": "stdout",
          "text": [
            "6\n"
          ]
        }
      ]
    },
    {
      "cell_type": "markdown",
      "source": [
        "###Metodos das listas"
      ],
      "metadata": {
        "id": "k9G-3jBM0nB7"
      }
    },
    {
      "cell_type": "markdown",
      "source": [
        "####Append"
      ],
      "metadata": {
        "id": "JujSCQaftsaP"
      }
    },
    {
      "cell_type": "code",
      "source": [
        "#1. append()\n",
        "#Adiciona um elemento no final da lista.\n",
        "\n",
        "frutas = ['banana', 'maça', 'maracujá', 'melão']\n",
        "\n",
        "frutas.append('uva')\n",
        "print(frutas)  # ['banana', 'maça', 'maracujá', 'melão', 'uva']\n",
        "\n",
        "lista = [1, 2, 3, 4, 5]\n",
        "lista.append(6)\n",
        "print(lista)\n",
        "\n",
        "\n"
      ],
      "metadata": {
        "colab": {
          "base_uri": "https://localhost:8080/"
        },
        "id": "y8PNvgxPrJ9e",
        "outputId": "bdbab40c-c7cc-40e3-92a4-f6127415f0ad"
      },
      "execution_count": null,
      "outputs": [
        {
          "output_type": "stream",
          "name": "stdout",
          "text": [
            "['banana', 'maça', 'maracujá', 'melão', 'uva']\n",
            "[1, 2, 3, 4, 5, 6]\n",
            "['banana', 'pera', 'maça', 'maracujá', 'melão', 'uva']\n",
            "['kiwi', 'banana', 'pera', 'maça', 'maracujá', 'melão', 'uva']\n",
            "[10, 1, 2, 3, 4, 5]\n"
          ]
        }
      ]
    },
    {
      "cell_type": "markdown",
      "source": [
        "####Insert"
      ],
      "metadata": {
        "id": "mp7yh_OGtqM1"
      }
    },
    {
      "cell_type": "code",
      "source": [
        "#Insere um elemento em uma posição específica da lista\n",
        "#(passando o índice e o valor)\n",
        "\n",
        "frutas.insert(1, 'pera')\n",
        "print(frutas)\n",
        "\n",
        "'''nomedalista.metodo(valor do indice, dado que vai ser inserido)'''\n",
        "\n",
        "frutas.insert(0,'kiwi')\n",
        "print(frutas)\n",
        "\n",
        "lista = [1, 2, 3, 4, 5]\n",
        "lista.insert(0,10)\n",
        "print(lista)\n"
      ],
      "metadata": {
        "colab": {
          "base_uri": "https://localhost:8080/"
        },
        "id": "vuh83G4atpcm",
        "outputId": "35e3d76d-a417-402f-915a-478483e7dd87"
      },
      "execution_count": null,
      "outputs": [
        {
          "output_type": "stream",
          "name": "stdout",
          "text": [
            "['pera']\n",
            "['kiwi', 'pera']\n",
            "[10, 1, 2, 3, 4, 5]\n"
          ]
        }
      ]
    },
    {
      "cell_type": "markdown",
      "source": [
        "####Remove"
      ],
      "metadata": {
        "id": "JcLDNjZStuUa"
      }
    },
    {
      "cell_type": "code",
      "source": [
        "#Remove um item da lista por valor especificado\n",
        "\n",
        "'''lista.remove(5)\n",
        "print(lista)'''\n",
        "\n",
        "frutas.remove('maça' and 'pera')\n",
        "print(frutas)"
      ],
      "metadata": {
        "colab": {
          "base_uri": "https://localhost:8080/"
        },
        "id": "VDdfEeNHtymx",
        "outputId": "eba321c3-7e54-4cb1-a22c-534b60144e6e"
      },
      "execution_count": null,
      "outputs": [
        {
          "output_type": "stream",
          "name": "stdout",
          "text": [
            "['kiwi', 'banana', 'maracujá', 'melão', 'uva']\n"
          ]
        }
      ]
    },
    {
      "cell_type": "markdown",
      "source": [
        "####Pop"
      ],
      "metadata": {
        "id": "h4K3iNlnz7N7"
      }
    },
    {
      "cell_type": "code",
      "source": [
        "#Remove e retorna um item da lista por índice\n",
        "frutas.pop(0 and 1)\n",
        "print(frutas)"
      ],
      "metadata": {
        "colab": {
          "base_uri": "https://localhost:8080/"
        },
        "id": "AVUN0-RauLx1",
        "outputId": "cdb15e00-2ecc-4c0c-e9d0-4e9b6e85b7c0"
      },
      "execution_count": null,
      "outputs": [
        {
          "output_type": "stream",
          "name": "stdout",
          "text": [
            "['maracujá', 'melão', 'uva']\n"
          ]
        }
      ]
    },
    {
      "cell_type": "markdown",
      "source": [
        "####index"
      ],
      "metadata": {
        "id": "wUmq-52-1THE"
      }
    },
    {
      "cell_type": "code",
      "source": [
        "frutas.index('melão')"
      ],
      "metadata": {
        "colab": {
          "base_uri": "https://localhost:8080/"
        },
        "id": "qUsI4jmp07xl",
        "outputId": "93479d83-794a-42b2-a4fa-86ea088eade9"
      },
      "execution_count": null,
      "outputs": [
        {
          "output_type": "error",
          "ename": "ValueError",
          "evalue": "'melão' is not in list",
          "traceback": [
            "\u001b[0;31m---------------------------------------------------------------------------\u001b[0m",
            "\u001b[0;31mValueError\u001b[0m                                Traceback (most recent call last)",
            "\u001b[0;32m<ipython-input-99-bc6b0ade03ef>\u001b[0m in \u001b[0;36m<cell line: 0>\u001b[0;34m()\u001b[0m\n\u001b[0;32m----> 1\u001b[0;31m \u001b[0mfrutas\u001b[0m\u001b[0;34m.\u001b[0m\u001b[0mindex\u001b[0m\u001b[0;34m(\u001b[0m\u001b[0;34m'melão'\u001b[0m\u001b[0;34m)\u001b[0m\u001b[0;34m\u001b[0m\u001b[0;34m\u001b[0m\u001b[0m\n\u001b[0m",
            "\u001b[0;31mValueError\u001b[0m: 'melão' is not in list"
          ]
        }
      ]
    },
    {
      "cell_type": "code",
      "source": [],
      "metadata": {
        "id": "kG1RRhHm3czZ"
      },
      "execution_count": null,
      "outputs": []
    },
    {
      "cell_type": "markdown",
      "source": [
        "####Count"
      ],
      "metadata": {
        "id": "nB9CH5pZ1WGd"
      }
    },
    {
      "cell_type": "code",
      "source": [
        "frutas.count('melão')"
      ],
      "metadata": {
        "colab": {
          "base_uri": "https://localhost:8080/"
        },
        "id": "MxZaCB4y1aO5",
        "outputId": "b4f03408-5504-4707-8a30-c3acdb6db275"
      },
      "execution_count": null,
      "outputs": [
        {
          "output_type": "execute_result",
          "data": {
            "text/plain": [
              "1"
            ]
          },
          "metadata": {},
          "execution_count": 60
        }
      ]
    },
    {
      "cell_type": "markdown",
      "source": [
        "####Sort"
      ],
      "metadata": {
        "id": "jtastaphMPce"
      }
    },
    {
      "cell_type": "code",
      "source": [
        "#se for numero vai ser crescente e se for string vai ser alfabetico\n",
        "frutas.sort()\n",
        "print(frutas)"
      ],
      "metadata": {
        "colab": {
          "base_uri": "https://localhost:8080/"
        },
        "id": "s0cekrwT10Oy",
        "outputId": "5a2a5046-db7e-49b3-dc78-2320a14cc458"
      },
      "execution_count": null,
      "outputs": [
        {
          "output_type": "stream",
          "name": "stdout",
          "text": [
            "['melão', 'uva']\n"
          ]
        }
      ]
    },
    {
      "cell_type": "markdown",
      "source": [
        "####Reverse"
      ],
      "metadata": {
        "id": "m3m7dPmwMRvA"
      }
    },
    {
      "cell_type": "code",
      "source": [
        "frutas.reverse()\n",
        "print(frutas)"
      ],
      "metadata": {
        "colab": {
          "base_uri": "https://localhost:8080/"
        },
        "id": "L1GLrOs83S2i",
        "outputId": "a854dbcb-3ac3-420f-a13d-f729b7a7121f"
      },
      "execution_count": null,
      "outputs": [
        {
          "output_type": "stream",
          "name": "stdout",
          "text": [
            "[]\n"
          ]
        }
      ]
    },
    {
      "cell_type": "markdown",
      "source": [
        "####Extend"
      ],
      "metadata": {
        "id": "1JxGizCkMTeq"
      }
    },
    {
      "cell_type": "code",
      "source": [
        "#extend\n",
        "#\n",
        "'''frutas = ['uva', 'melão']\n",
        "frutas2 = ['limão','maça','kiwi']\n",
        "frutas2.extend(frutas)\n",
        "print(frutas2)'''\n",
        "'''\n",
        "num = [1,2, 3, 'maça']\n",
        "num2 = [1,5,7,'pera']\n",
        "num.extend(num2)\n",
        "print(num)\n",
        "'''\n",
        "lista_final = num + num2\n",
        "print(lista_final)\n"
      ],
      "metadata": {
        "colab": {
          "base_uri": "https://localhost:8080/"
        },
        "id": "4_885qB03fTo",
        "outputId": "03aaa33a-8f2a-439e-b6ea-6662047b4ba0"
      },
      "execution_count": null,
      "outputs": [
        {
          "output_type": "stream",
          "name": "stdout",
          "text": [
            "[1, 2, 3, 'maça', 1, 5, 7, 'pera', 1, 5, 7, 'pera']\n"
          ]
        }
      ]
    },
    {
      "cell_type": "code",
      "source": [],
      "metadata": {
        "id": "Cj1cCJIk5Xf0"
      },
      "execution_count": null,
      "outputs": []
    },
    {
      "cell_type": "code",
      "source": [
        "# clear()\n",
        "frutas.clear()\n",
        "print(frutas)"
      ],
      "metadata": {
        "colab": {
          "base_uri": "https://localhost:8080/"
        },
        "id": "5LKQ9dRC5OWB",
        "outputId": "4f8ab2fe-063e-4e56-a13b-872d35c16ccb"
      },
      "execution_count": null,
      "outputs": [
        {
          "output_type": "stream",
          "name": "stdout",
          "text": [
            "[]\n"
          ]
        }
      ]
    },
    {
      "cell_type": "code",
      "source": [
        "num = [1,2,3]\n",
        "num2 = [3,4,5]\n",
        "num.insert(0, 5 and 1,7 )\n",
        "print(num)"
      ],
      "metadata": {
        "colab": {
          "base_uri": "https://localhost:8080/"
        },
        "id": "JrI5p1H_5pKb",
        "outputId": "ffa60a3b-a1b4-4c39-89d9-285f580cc2f8"
      },
      "execution_count": null,
      "outputs": [
        {
          "output_type": "error",
          "ename": "TypeError",
          "evalue": "insert expected 2 arguments, got 3",
          "traceback": [
            "\u001b[0;31m---------------------------------------------------------------------------\u001b[0m",
            "\u001b[0;31mTypeError\u001b[0m                                 Traceback (most recent call last)",
            "\u001b[0;32m<ipython-input-76-847a4b4adb63>\u001b[0m in \u001b[0;36m<cell line: 0>\u001b[0;34m()\u001b[0m\n\u001b[1;32m      1\u001b[0m \u001b[0mnum\u001b[0m \u001b[0;34m=\u001b[0m \u001b[0;34m[\u001b[0m\u001b[0;36m1\u001b[0m\u001b[0;34m,\u001b[0m\u001b[0;36m2\u001b[0m\u001b[0;34m,\u001b[0m\u001b[0;36m3\u001b[0m\u001b[0;34m]\u001b[0m\u001b[0;34m\u001b[0m\u001b[0;34m\u001b[0m\u001b[0m\n\u001b[1;32m      2\u001b[0m \u001b[0mnum2\u001b[0m \u001b[0;34m=\u001b[0m \u001b[0;34m[\u001b[0m\u001b[0;36m3\u001b[0m\u001b[0;34m,\u001b[0m\u001b[0;36m4\u001b[0m\u001b[0;34m,\u001b[0m\u001b[0;36m5\u001b[0m\u001b[0;34m]\u001b[0m\u001b[0;34m\u001b[0m\u001b[0;34m\u001b[0m\u001b[0m\n\u001b[0;32m----> 3\u001b[0;31m \u001b[0mnum\u001b[0m\u001b[0;34m.\u001b[0m\u001b[0minsert\u001b[0m\u001b[0;34m(\u001b[0m\u001b[0;36m0\u001b[0m\u001b[0;34m,\u001b[0m \u001b[0;36m5\u001b[0m \u001b[0;32mand\u001b[0m \u001b[0;36m1\u001b[0m\u001b[0;34m,\u001b[0m\u001b[0;36m7\u001b[0m \u001b[0;34m)\u001b[0m\u001b[0;34m\u001b[0m\u001b[0;34m\u001b[0m\u001b[0m\n\u001b[0m\u001b[1;32m      4\u001b[0m \u001b[0mprint\u001b[0m\u001b[0;34m(\u001b[0m\u001b[0mnum\u001b[0m\u001b[0;34m)\u001b[0m\u001b[0;34m\u001b[0m\u001b[0;34m\u001b[0m\u001b[0m\n",
            "\u001b[0;31mTypeError\u001b[0m: insert expected 2 arguments, got 3"
          ]
        }
      ]
    },
    {
      "cell_type": "markdown",
      "source": [
        "##Tupla"
      ],
      "metadata": {
        "id": "dLho88LL8n1w"
      }
    },
    {
      "cell_type": "code",
      "source": [
        "cidade = ('São paulo',\"Rio de janeiro\", 'Salvador')\n",
        "print(type(cidade))\n"
      ],
      "metadata": {
        "colab": {
          "base_uri": "https://localhost:8080/"
        },
        "id": "QTrGKNGH6xnd",
        "outputId": "0af53455-6af1-4ee8-e748-102c0e6139a2"
      },
      "execution_count": null,
      "outputs": [
        {
          "output_type": "stream",
          "name": "stdout",
          "text": [
            "<class 'tuple'>\n",
            "()\n"
          ]
        }
      ]
    },
    {
      "cell_type": "markdown",
      "source": [
        "##Dicionário"
      ],
      "metadata": {
        "id": "uzq7iUH78pjX"
      }
    },
    {
      "cell_type": "code",
      "source": [
        "\n",
        "cliente = {\n",
        "    'nome':'Dannyelly',\n",
        "    'idade':31,\n",
        "    'endereco': 'rua do maracuja'}\n",
        "print(type(cliente))"
      ],
      "metadata": {
        "colab": {
          "base_uri": "https://localhost:8080/"
        },
        "id": "5wgUwpUl8v6q",
        "outputId": "00e64258-bed7-4263-bd3f-8e69b4db14e4"
      },
      "execution_count": null,
      "outputs": [
        {
          "output_type": "stream",
          "name": "stdout",
          "text": [
            "<class 'dict'>\n"
          ]
        }
      ]
    },
    {
      "cell_type": "markdown",
      "source": [
        "###Metodos do dicionários"
      ],
      "metadata": {
        "id": "s9uPJuNC2Aau"
      }
    },
    {
      "cell_type": "markdown",
      "source": [
        "####Get"
      ],
      "metadata": {
        "id": "TZ9zyGi22Euz"
      }
    },
    {
      "cell_type": "code",
      "source": [
        "'''print(cliente['nome'])\n",
        "print(cliente['idade'])\n",
        "print(cliente['endereco'])\n",
        "'''\n",
        "cliente.get('nome')"
      ],
      "metadata": {
        "colab": {
          "base_uri": "https://localhost:8080/",
          "height": 36
        },
        "id": "35VyP8ri917Q",
        "outputId": "c036bb82-fd66-419a-8b51-51aa0a55e20f"
      },
      "execution_count": null,
      "outputs": [
        {
          "output_type": "execute_result",
          "data": {
            "text/plain": [
              "'Dannyelly'"
            ],
            "application/vnd.google.colaboratory.intrinsic+json": {
              "type": "string"
            }
          },
          "metadata": {},
          "execution_count": 90
        }
      ]
    },
    {
      "cell_type": "markdown",
      "source": [
        "####Values\n"
      ],
      "metadata": {
        "id": "iq4bbMs2V-91"
      }
    },
    {
      "cell_type": "code",
      "source": [
        "#Esse metodo aparece os valores do dicionario\n",
        "cliente.values()\n",
        "\n",
        "nota = {'prova1:':8.5,\n",
        "        'prova2':8.7}\n",
        "\n",
        "\n",
        "(print(nota.values()))\n",
        "\n",
        "media = sum(nota.values())/len(nota)\n",
        "print(media)\n",
        "\n",
        "print(len(nota))"
      ],
      "metadata": {
        "colab": {
          "base_uri": "https://localhost:8080/"
        },
        "id": "W_hADebQWER5",
        "outputId": "329ed6ce-27f0-4185-f820-2f265face87c"
      },
      "execution_count": null,
      "outputs": [
        {
          "output_type": "stream",
          "name": "stdout",
          "text": [
            "dict_values([8.5, 8.7])\n",
            "8.6\n",
            "2\n"
          ]
        }
      ]
    },
    {
      "cell_type": "markdown",
      "source": [
        "####Keys"
      ],
      "metadata": {
        "id": "bVZCRLFdZY8a"
      }
    },
    {
      "cell_type": "code",
      "source": [
        "nota = {'prova1:':8.5,\n",
        "        'prova2':8.7}\n",
        "nota.keys()\n",
        "#Esse metodo vai aparecer as chaves do dicionario"
      ],
      "metadata": {
        "colab": {
          "base_uri": "https://localhost:8080/"
        },
        "id": "6LfCrtYnYWDS",
        "outputId": "cd395888-1f70-412f-94ae-dfdb9b7cd1ef"
      },
      "execution_count": null,
      "outputs": [
        {
          "output_type": "execute_result",
          "data": {
            "text/plain": [
              "dict_keys(['prova1:', 'prova2'])"
            ]
          },
          "metadata": {},
          "execution_count": 10
        }
      ]
    },
    {
      "cell_type": "markdown",
      "source": [
        "####Atribuição"
      ],
      "metadata": {
        "id": "g_xDjRClZcAS"
      }
    },
    {
      "cell_type": "code",
      "source": [
        "cliente['altura'] = 1.63\n",
        "cliente['altura'] = 1.64\n",
        "print(cliente)"
      ],
      "metadata": {
        "colab": {
          "base_uri": "https://localhost:8080/"
        },
        "id": "b5REcJHFZEzU",
        "outputId": "bcdc2718-8989-45a0-e646-87989f2037a8"
      },
      "execution_count": null,
      "outputs": [
        {
          "output_type": "stream",
          "name": "stdout",
          "text": [
            "{'nome': 'Dannyelly', 'idade': 31, 'endereco': 'rua do maracuja', 'altura': 1.64}\n"
          ]
        }
      ]
    },
    {
      "cell_type": "code",
      "source": [
        "cliente.clear()"
      ],
      "metadata": {
        "id": "rhM7ES12Z3tc"
      },
      "execution_count": null,
      "outputs": []
    },
    {
      "cell_type": "markdown",
      "source": [
        "#Tuplas Aninhadas"
      ],
      "metadata": {
        "id": "BIavGRAOaA3s"
      }
    },
    {
      "cell_type": "code",
      "source": [
        "aninhada_tupla = (('são paulo',\"rio de janeiro\"), ('salvador','recife'), ('manaus'))\n"
      ],
      "metadata": {
        "id": "NelD66UOaApo"
      },
      "execution_count": null,
      "outputs": []
    },
    {
      "cell_type": "code",
      "source": [
        "print(aninhada_tupla[1][])"
      ],
      "metadata": {
        "id": "693lGhg-Z_8z",
        "colab": {
          "base_uri": "https://localhost:8080/"
        },
        "outputId": "6af401e1-1a5b-470a-c59e-9bf93e659075"
      },
      "execution_count": null,
      "outputs": [
        {
          "output_type": "stream",
          "name": "stdout",
          "text": [
            "('salvador', 'recife')\n"
          ]
        }
      ]
    }
  ]
}